{
 "cells": [
  {
   "cell_type": "code",
   "execution_count": null,
   "id": "4893fd80-fec8-40bd-aad5-227135a29c57",
   "metadata": {
    "jupyter": {
     "source_hidden": true
    },
    "scene__init": true,
    "tags": [
     "ActiveScene"
    ]
   },
   "outputs": [],
   "source": [
    "# DeepFloyd IF Lab UI\n",
    "\n",
    "from IPython.display import clear_output\n",
    "from ipyutils import unload_modules\n",
    "\n",
    "print(\"Loading DeepFloyd IF Lab UI, please wait...\")\n",
    "\n",
    "unload_modules(\"iflab\")\n",
    "\n",
    "from iflab.pipelines.stages import DeepFloydIFStages\n",
    "from iflab.ui.main import DeepFloydIFUI\n",
    "\n",
    "try:\n",
    "    stages\n",
    "except NameError:\n",
    "    stages = DeepFloydIFStages()\n",
    "    stages.load()\n",
    "\n",
    "clear_output()\n",
    "\n",
    "ui = DeepFloydIFUI(stages)\n",
    "ui.show()\n"
   ]
  },
  {
   "cell_type": "markdown",
   "id": "dad96d65-e700-48ea-845a-d150fd2f2e61",
   "metadata": {},
   "source": [
    "### Control DeepFloyd IF programmatically"
   ]
  },
  {
   "cell_type": "code",
   "execution_count": null,
   "id": "3ef2b703-5d9b-4d39-82eb-c1c249914b7e",
   "metadata": {},
   "outputs": [],
   "source": [
    "dream = ui.dream.get_pipeline(update_ui=True)\n",
    "\n",
    "RESPACING_MODES = ['fast27', 'smart27', 'smart50', 'smart100', 'smart185']\n",
    "\n",
    "for mode in RESPACING_MODES:\n",
    "    dream(seed=42, if_I_kwargs={\"sample_timestep_respacing\": mode}, if_II_kwargs={})"
   ]
  },
  {
   "cell_type": "code",
   "execution_count": null,
   "id": "2f62fa09-053e-4c9f-8055-66edba259513",
   "metadata": {},
   "outputs": [],
   "source": [
    "dream = ui.dream.get_pipeline(update_ui=False)\n",
    "\n",
    "result = dream(if_I_kwargs={}, if_II_kwargs={}, if_III_kwargs={})\n",
    "\n",
    "display(result[\"III\"][0])"
   ]
  },
  {
   "cell_type": "code",
   "execution_count": null,
   "id": "ca1ca6ac-7521-4dbd-b976-3c20586bc6fd",
   "metadata": {},
   "outputs": [],
   "source": []
  }
 ],
 "metadata": {
  "kernelspec": {
   "display_name": "Python 3 (ipykernel)",
   "language": "python",
   "name": "python3"
  },
  "language_info": {
   "codemirror_mode": {
    "name": "ipython",
    "version": 3
   },
   "file_extension": ".py",
   "mimetype": "text/x-python",
   "name": "python",
   "nbconvert_exporter": "python",
   "pygments_lexer": "ipython3",
   "version": "3.10.9"
  },
  "scenes_data": {
   "active_scene": "init",
   "init_scene": "init",
   "scenes": [
    "init"
   ]
  }
 },
 "nbformat": 4,
 "nbformat_minor": 5
}
