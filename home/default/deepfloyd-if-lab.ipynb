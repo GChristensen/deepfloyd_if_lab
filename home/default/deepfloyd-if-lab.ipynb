{
 "cells": [
  {
   "cell_type": "code",
   "execution_count": null,
   "id": "4893fd80-fec8-40bd-aad5-227135a29c57",
   "metadata": {
    "jupyter": {
     "source_hidden": true
    },
    "scene__init": true,
    "tags": [
     "ActiveScene"
    ]
   },
   "outputs": [],
   "source": [
    "# DeepFloyd IF Lab UI\n",
    "\n",
    "from ifui import show_ui\n",
    "\n",
    "ui = show_ui()"
   ]
  },
  {
   "cell_type": "markdown",
   "id": "dad96d65-e700-48ea-845a-d150fd2f2e61",
   "metadata": {},
   "source": [
    "### Control DeepFloyd IF programmatically"
   ]
  },
  {
   "cell_type": "code",
   "execution_count": null,
   "id": "3ef2b703-5d9b-4d39-82eb-c1c249914b7e",
   "metadata": {},
   "outputs": [],
   "source": [
    "# Running this cell will make DeepFloyd IF to dream and display 5 images for the current prompt with the varying respacing mode.\n",
    "# The facades returned by the get_pipeline() function expose the same API as the built-in DeepFloyd IF pipelines.\n",
    "# This could be done for ui.dream, ui.style_transfer, ui.super_resolution, and ui.inpainting.\n",
    "dream = ui.dream.get_pipeline(update_ui=True)\n",
    "\n",
    "RESPACING_MODES = ['fast27', 'smart27', 'smart50', 'smart100', 'smart185']\n",
    "\n",
    "for mode in RESPACING_MODES:\n",
    "    # Specify if_*_kwargs parameters for the stages needed to be generated. Below, the stages I-II are produced.\n",
    "    # The values of unspecified parameters are taken from the UI.\n",
    "    dream(seed=42, if_I_kwargs={\"sample_timestep_respacing\": mode}, if_II_kwargs={})"
   ]
  },
  {
   "cell_type": "code",
   "execution_count": null,
   "id": "2f62fa09-053e-4c9f-8055-66edba259513",
   "metadata": {},
   "outputs": [],
   "source": [
    "# Running this cell will make DeepFloyd IF to dream one image for the current prompt. It will not be displayed in the UI.\n",
    "dream = ui.dream.get_pipeline(update_ui=False)\n",
    "\n",
    "result = dream(if_I_kwargs={}, if_II_kwargs={}, if_III_kwargs={})\n",
    "\n",
    "# Display the result of the stage III in the cell output.\n",
    "display(result[\"III\"][0])"
   ]
  }
 ],
 "metadata": {
  "kernelspec": {
   "display_name": "Python 3 (ipykernel)",
   "language": "python",
   "name": "python3"
  },
  "language_info": {
   "codemirror_mode": {
    "name": "ipython",
    "version": 3
   },
   "file_extension": ".py",
   "mimetype": "text/x-python",
   "name": "python",
   "nbconvert_exporter": "python",
   "pygments_lexer": "ipython3",
   "version": "3.10.11"
  },
  "scenes_data": {
   "active_scene": "init",
   "init_scene": "init",
   "scenes": [
    "init"
   ]
  }
 },
 "nbformat": 4,
 "nbformat_minor": 5
}
